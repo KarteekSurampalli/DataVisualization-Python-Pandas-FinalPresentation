{
 "cells": [
  {
   "cell_type": "markdown",
   "id": "9d580262",
   "metadata": {},
   "source": [
    "Data Programming Final Presentation - Assignment\n",
    "\n",
    "Indian Prison"
   ]
  },
  {
   "cell_type": "markdown",
   "id": "9f577fa1",
   "metadata": {},
   "source": [
    "Importing Required Packages"
   ]
  },
  {
   "cell_type": "code",
   "execution_count": null,
   "id": "fcbda270",
   "metadata": {},
   "outputs": [],
   "source": [
    "import pandas as pd\n",
    "import matplotlib.pyplot as plt\n",
    "\n",
    "%matplotlib inline"
   ]
  },
  {
   "cell_type": "code",
   "execution_count": null,
   "id": "31d47de4",
   "metadata": {},
   "outputs": [],
   "source": [
    "prison_age_df = pd.read_csv('C:\\Assignments\\Data Progamming\\Final Presentation\\Prison Dataset\\Age_group.csv')\n",
    "prison_IPC_df = pd.read_csv('C:\\Assignments\\Data Progamming\\Final Presentation\\Prison Dataset\\IPC_crime_inmates_convicted.csv')\n",
    "prison_Edu_df = pd.read_csv('C:\\Assignments\\Data Progamming\\Final Presentation\\Prison Dataset\\Education.csv')\n",
    "prison_Recidivism_df = pd.read_csv('C:\\Assignments\\Data Progamming\\Final Presentation\\Prison Dataset\\Recidivism.csv')\n",
    "prison_Expenditure_df = pd.read_csv('C:\\Assignments\\Data Progamming\\Final Presentation\\Prison Dataset\\Other Prison data\\Expenditure_on_inmates.csv')\n",
    "prison_GDP_df = pd.read_csv('C:\\Assignments\\Data Progamming\\Final Presentation\\Prison Dataset\\Other Prison data\\Value_of_goods_produced_by_inmates.csv')\n",
    "\n",
    "prison_age_df.head()"
   ]
  },
  {
   "cell_type": "code",
   "execution_count": 157,
   "id": "f18c87d7",
   "metadata": {},
   "outputs": [
    {
     "data": {
      "text/html": [
       "<div>\n",
       "<style scoped>\n",
       "    .dataframe tbody tr th:only-of-type {\n",
       "        vertical-align: middle;\n",
       "    }\n",
       "\n",
       "    .dataframe tbody tr th {\n",
       "        vertical-align: top;\n",
       "    }\n",
       "\n",
       "    .dataframe thead th {\n",
       "        text-align: right;\n",
       "    }\n",
       "</style>\n",
       "<table border=\"1\" class=\"dataframe\">\n",
       "  <thead>\n",
       "    <tr style=\"text-align: right;\">\n",
       "      <th></th>\n",
       "      <th>state_name</th>\n",
       "      <th>is_state</th>\n",
       "      <th>year</th>\n",
       "      <th>gender</th>\n",
       "      <th>education</th>\n",
       "      <th>convicts</th>\n",
       "      <th>under_trial</th>\n",
       "      <th>detenues</th>\n",
       "      <th>others</th>\n",
       "      <th>Total Prisoners</th>\n",
       "    </tr>\n",
       "  </thead>\n",
       "  <tbody>\n",
       "    <tr>\n",
       "      <th>0</th>\n",
       "      <td>A &amp; N Islands</td>\n",
       "      <td>0</td>\n",
       "      <td>2001</td>\n",
       "      <td>Female</td>\n",
       "      <td>Below Class X</td>\n",
       "      <td>0</td>\n",
       "      <td>0</td>\n",
       "      <td>0</td>\n",
       "      <td>0</td>\n",
       "      <td>0</td>\n",
       "    </tr>\n",
       "    <tr>\n",
       "      <th>1</th>\n",
       "      <td>A &amp; N Islands</td>\n",
       "      <td>0</td>\n",
       "      <td>2001</td>\n",
       "      <td>Female</td>\n",
       "      <td>Class X and above but below graduate</td>\n",
       "      <td>2</td>\n",
       "      <td>1</td>\n",
       "      <td>0</td>\n",
       "      <td>0</td>\n",
       "      <td>3</td>\n",
       "    </tr>\n",
       "    <tr>\n",
       "      <th>2</th>\n",
       "      <td>A &amp; N Islands</td>\n",
       "      <td>0</td>\n",
       "      <td>2001</td>\n",
       "      <td>Female</td>\n",
       "      <td>Graduate</td>\n",
       "      <td>0</td>\n",
       "      <td>0</td>\n",
       "      <td>0</td>\n",
       "      <td>0</td>\n",
       "      <td>0</td>\n",
       "    </tr>\n",
       "    <tr>\n",
       "      <th>3</th>\n",
       "      <td>A &amp; N Islands</td>\n",
       "      <td>0</td>\n",
       "      <td>2001</td>\n",
       "      <td>Female</td>\n",
       "      <td>Holding technical degree/diploma etc</td>\n",
       "      <td>0</td>\n",
       "      <td>0</td>\n",
       "      <td>0</td>\n",
       "      <td>0</td>\n",
       "      <td>0</td>\n",
       "    </tr>\n",
       "    <tr>\n",
       "      <th>4</th>\n",
       "      <td>A &amp; N Islands</td>\n",
       "      <td>0</td>\n",
       "      <td>2001</td>\n",
       "      <td>Female</td>\n",
       "      <td>Illiterate</td>\n",
       "      <td>0</td>\n",
       "      <td>0</td>\n",
       "      <td>0</td>\n",
       "      <td>0</td>\n",
       "      <td>0</td>\n",
       "    </tr>\n",
       "  </tbody>\n",
       "</table>\n",
       "</div>"
      ],
      "text/plain": [
       "      state_name  is_state  year  gender  \\\n",
       "0  A & N Islands         0  2001  Female   \n",
       "1  A & N Islands         0  2001  Female   \n",
       "2  A & N Islands         0  2001  Female   \n",
       "3  A & N Islands         0  2001  Female   \n",
       "4  A & N Islands         0  2001  Female   \n",
       "\n",
       "                              education  convicts  under_trial  detenues  \\\n",
       "0                         Below Class X         0            0         0   \n",
       "1  Class X and above but below graduate         2            1         0   \n",
       "2                              Graduate         0            0         0   \n",
       "3  Holding technical degree/diploma etc         0            0         0   \n",
       "4                            Illiterate         0            0         0   \n",
       "\n",
       "   others  Total Prisoners  \n",
       "0       0                0  \n",
       "1       0                3  \n",
       "2       0                0  \n",
       "3       0                0  \n",
       "4       0                0  "
      ]
     },
     "execution_count": 157,
     "metadata": {},
     "output_type": "execute_result"
    }
   ],
   "source": [
    "prison_Edu_df.head()"
   ]
  },
  {
   "cell_type": "code",
   "execution_count": null,
   "id": "2f92b305",
   "metadata": {},
   "outputs": [],
   "source": [
    "prison_age_df['category'].unique()"
   ]
  },
  {
   "cell_type": "code",
   "execution_count": null,
   "id": "d7483779",
   "metadata": {},
   "outputs": [],
   "source": [
    "prison_age_df['type'].unique()"
   ]
  },
  {
   "cell_type": "code",
   "execution_count": null,
   "id": "2f0ff45d",
   "metadata": {},
   "outputs": [],
   "source": [
    "prison_age_df['Total_Priosners'] = prison_age_df['age_16_18']+prison_age_df['age_18_30']+prison_age_df['age_30_50']+prison_age_df['age_50_above']\n",
    "prison_age_df.head()"
   ]
  },
  {
   "cell_type": "code",
   "execution_count": null,
   "id": "8ac9fbe4",
   "metadata": {},
   "outputs": [],
   "source": [
    "Foreign_dist = prison_age_df[prison_age_df['category']=='Foreigners'].groupby(['state_name'],as_index=False,sort=False)['Total_Priosners'].sum().sort_values(['Total_Priosners']).tail(5)\n",
    "Foreign_dist.set_index('state_name',inplace=True)\n",
    "\n",
    "Indian_dist = prison_age_df[prison_age_df['category']=='Indians'].groupby(['state_name'],as_index=False,sort=False)['Total_Priosners'].sum().sort_values(['Total_Priosners']).tail(5)\n",
    "Indian_dist.set_index('state_name',inplace=True)\n",
    "Indian_dist\n",
    "\n"
   ]
  },
  {
   "cell_type": "code",
   "execution_count": null,
   "id": "70fc4761",
   "metadata": {
    "scrolled": true
   },
   "outputs": [],
   "source": [
    "plot_objects = plt.subplots(nrows=1, ncols=2, figsize=(14, 4))\n",
    "fig, ((ax1, ax2)) = plot_objects\n",
    "\n",
    "ax1.set_title(\"Top 5 states with more Foreign Prisoners\")\n",
    "ax2.set_title(\"Top 5 states with more Indian Prisoners\")\n",
    "\n",
    "Foreign_dist.plot(kind='bar',ax=ax1,color='red',ylabel=\"Total Prisoners\")\n",
    "Indian_dist.plot(kind='bar',ax=ax2,color='SteelBlue',ylabel=\"Total Prisoners\")\n"
   ]
  },
  {
   "cell_type": "code",
   "execution_count": null,
   "id": "0c91682e",
   "metadata": {},
   "outputs": [],
   "source": [
    "prison_Edu_df[\"Total Prisoners\"] = prison_Edu_df.iloc[:,[5,6,7,8]].sum(axis=1)\n",
    "prison_Edu_df.head()"
   ]
  },
  {
   "cell_type": "code",
   "execution_count": null,
   "id": "65248943",
   "metadata": {},
   "outputs": [],
   "source": [
    "Edu_dist = prison_Edu_df.groupby(['education'],as_index=False,sort=False)['Total Prisoners'].sum().sort_values(['Total Prisoners'],ascending=False)"
   ]
  },
  {
   "cell_type": "code",
   "execution_count": null,
   "id": "918aa4a1",
   "metadata": {},
   "outputs": [],
   "source": [
    "Edu_dist.set_index('education').plot(kind=\"pie\",y='Total Prisoners',figsize=(14,10),autopct='%1.1f%%',title='Inmates Education Level',fontsize='x-large').legend(bbox_to_anchor = (1,1))"
   ]
  },
  {
   "cell_type": "code",
   "execution_count": null,
   "id": "cfc47a26",
   "metadata": {},
   "outputs": [],
   "source": [
    "prison_Recidivism_df.head()"
   ]
  },
  {
   "cell_type": "code",
   "execution_count": null,
   "id": "80e7f2ac",
   "metadata": {},
   "outputs": [],
   "source": [
    "prison_Recidivism_clean_df = prison_Recidivism_df[prison_Recidivism_df[\"habitual_offenders\"]<=prison_Recidivism_df['convicts_admitted']]\n",
    "prison_Recidivism_clean_df['Recidivism Factor'] = prison_Recidivism_clean_df['habitual_offenders']/prison_Recidivism_clean_df['convicts_admitted']\n",
    "prison_Recidivism_clean_df.head()"
   ]
  },
  {
   "cell_type": "code",
   "execution_count": null,
   "id": "e338f732",
   "metadata": {},
   "outputs": [],
   "source": [
    "Recidivism_dist = prison_Recidivism_clean_df.groupby(['year'],as_index=False,sort=False)['Recidivism Factor'].mean().sort_values(['year'])\n",
    "Recidivism_dist.set_index('year')\n",
    "Recidivism_dist.plot(kind='line',y='Recidivism Factor',x='year',figsize=(14,5),title='Recidivism trend',ylabel='Recidivism Factor',fontsize='x-large')\n"
   ]
  },
  {
   "cell_type": "code",
   "execution_count": null,
   "id": "b67c8afc",
   "metadata": {},
   "outputs": [],
   "source": [
    "expenditure_dist = prison_Expenditure_df[['Indicator_Name','Data_Value']].set_index('Indicator_Name').groupby(['Indicator_Name']).mean().sort_values(['Data_Value'])\n",
    "#expenditure_dist[expenditure_dist.iloc[0]=='Total expenditure on inmates']\n",
    "expenditure_dist.iloc[0:-1]"
   ]
  },
  {
   "cell_type": "code",
   "execution_count": null,
   "id": "ee03fb05",
   "metadata": {},
   "outputs": [],
   "source": [
    "expenditure_dist.iloc[0:-1].plot(kind='pie',y='Data_Value',figsize=(14,10),title='Average Expenditure per Annum on Prisoners',autopct='%1.1f%%')\n"
   ]
  },
  {
   "cell_type": "code",
   "execution_count": null,
   "id": "9c4a6c68",
   "metadata": {},
   "outputs": [],
   "source": [
    "prison_GDP_df.head(1)"
   ]
  },
  {
   "cell_type": "code",
   "execution_count": null,
   "id": "c0ed0643",
   "metadata": {},
   "outputs": [],
   "source": [
    "ax=prison_GDP_df[['YEAR','Gross Value of Sale Proceeds']].set_index('YEAR').groupby(['YEAR']).sum().sort_values('YEAR').plot(ylabel='INR',figsize=(14,5))\n",
    "prison_Expenditure_df[['TimePeriod','Data_Value']].set_index('TimePeriod').groupby(['TimePeriod']).sum().sort_values('TimePeriod').plot(ax=ax)"
   ]
  },
  {
   "cell_type": "code",
   "execution_count": null,
   "id": "f419570e",
   "metadata": {},
   "outputs": [],
   "source": [
    "crime_against_women = ['Eve-Teasing','Dowry Deaths','Cruelty By Husband Or Relative Of Husband','Rape','Molestation']\n",
    "crime_against_women_df = prison_IPC_df[prison_IPC_df['CRIME HEAD'].isin(crime_against_women)]\n",
    "crime_against_women_df = crime_against_women_df[['YEAR','CRIME HEAD','Grand Total']].groupby(['YEAR','CRIME HEAD'],as_index=False,sort=False).sum(['Grand Total']).pivot(index='YEAR',columns='CRIME HEAD', values='Grand Total')\n",
    "crime_against_women_df.plot(figsize=(12,6),ylabel='Total Prisoners', title='Trend in Crime against Women')\n",
    "plot_objects = plt.subplots(nrows=1, ncols=5, figsize=(30, 8))\n",
    "fig, ((ax1, ax2, ax3, ax4, ax5,)) = plot_objects\n",
    "ax1.set_title(\"Trend Prisoners convicted for Rape\")\n",
    "ax2.set_title(\"Trend Prisoners convicted for Molestation\")\n",
    "ax3.set_title(\"Trend Prisoners convicted for Eve Teasing\")\n",
    "ax4.set_title(\"Trend Prisoners convicted for Dowry\")\n",
    "ax5.set_title(\"Trend Prisoners convicted for Cruelty by Husband / Husband Relatives\")\n",
    "crime_against_women_df.plot(y='Rape',color='violet',ax=ax1,ylabel='Total Prisoners')\n",
    "crime_against_women_df.plot(y='Molestation',color='red',ax=ax2 ,ylabel='Total Prisoners')\n",
    "crime_against_women_df.plot(y='Eve-Teasing',color='green',ax=ax3 ,ylabel='Total Prisoners')\n",
    "crime_against_women_df.plot(y='Dowry Deaths',color='orange',ax=ax4 ,ylabel='Total Prisoners')\n",
    "crime_against_women_df.plot(y='Cruelty By Husband Or Relative Of Husband',color='steelblue',ax=ax5 ,ylabel='Total Prisoners')\n",
    "\n"
   ]
  },
  {
   "cell_type": "code",
   "execution_count": null,
   "id": "2ef635aa",
   "metadata": {},
   "outputs": [],
   "source": [
    "crime_against_women_df2 = prison_IPC_df[prison_IPC_df['CRIME HEAD'].isin(crime_against_women)]\n",
    "crime_against_women_df2 = crime_against_women_df2[['STATE/UT','CRIME HEAD','Grand Total']].groupby(['STATE/UT','CRIME HEAD'],as_index=False,sort=False).sum(['Grand Total'])\n",
    "\n",
    "\n",
    "crime_against_women_df2[crime_against_women_df2['CRIME HEAD']=='Rape'].sort_values(['Grand Total']).tail(10).plot(y='Grand Total',x='STATE/UT',kind='barh',title='Top 10 states with prisoners convicted for Rape',ylabel='Total Prisoners').legend(['Total Prisoners Convicted'])\n"
   ]
  },
  {
   "cell_type": "code",
   "execution_count": null,
   "id": "c1640971",
   "metadata": {},
   "outputs": [],
   "source": [
    "crime_against_women_df2[crime_against_women_df2['CRIME HEAD']=='Molestation'].sort_values(['Grand Total']).tail(10).plot(y='Grand Total',x='STATE/UT',kind='barh',title='Top 10 states with prisoners convicted for Molestation',ylabel='Total Prisoners').legend(['Total Prisoners Convicted'])\n"
   ]
  },
  {
   "cell_type": "code",
   "execution_count": null,
   "id": "43f2738a",
   "metadata": {},
   "outputs": [],
   "source": [
    "crime_against_women_df2[crime_against_women_df2['CRIME HEAD']=='Eve-Teasing'].sort_values(['Grand Total']).tail(10).plot(y='Grand Total',x='STATE/UT',kind='barh',title='Top 10 states with prisoners convicted for Eve Teasing',ylabel='Total Prisoners').legend(['Total Prisoners Convicted'])\n"
   ]
  },
  {
   "cell_type": "code",
   "execution_count": null,
   "id": "543f705b",
   "metadata": {},
   "outputs": [],
   "source": [
    "crime_against_women_df2[crime_against_women_df2['CRIME HEAD']=='Dowry Deaths'].sort_values(['Grand Total']).tail(10).plot(y='Grand Total',x='STATE/UT',kind='barh',title='Top 10 states with prisoners convicted for Dowry Deaths',ylabel='Total Prisoners').legend(['Total Prisoners Convicted'])\n"
   ]
  },
  {
   "cell_type": "code",
   "execution_count": null,
   "id": "ff4caf8d",
   "metadata": {},
   "outputs": [],
   "source": [
    "crime_against_women_df2[crime_against_women_df2['CRIME HEAD']=='Cruelty By Husband Or Relative Of Husband'].sort_values(['Grand Total']).tail(10).plot(y='Grand Total',x='STATE/UT',kind='barh',title='Top 10 states with prisoners convicted for Cruelty By Husband Or Relative Of Husband',ylabel='Total Prisoners').legend(['Total Prisoners Convicted'])\n"
   ]
  },
  {
   "cell_type": "code",
   "execution_count": null,
   "id": "2f201b50",
   "metadata": {},
   "outputs": [],
   "source": []
  }
 ],
 "metadata": {
  "kernelspec": {
   "display_name": "Python 3",
   "language": "python",
   "name": "python3"
  },
  "language_info": {
   "codemirror_mode": {
    "name": "ipython",
    "version": 3
   },
   "file_extension": ".py",
   "mimetype": "text/x-python",
   "name": "python",
   "nbconvert_exporter": "python",
   "pygments_lexer": "ipython3",
   "version": "3.8.8"
  }
 },
 "nbformat": 4,
 "nbformat_minor": 5
}
